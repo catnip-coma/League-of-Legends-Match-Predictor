{
 "cells": [
  {
   "cell_type": "markdown",
   "id": "64ccaa9c-5cc8-463e-9572-3a2d4213cb73",
   "metadata": {},
   "source": [
    "# League of Legends Match Predictor"
   ]
  },
  {
   "cell_type": "markdown",
   "id": "661ba914-2a81-42bf-a0a6-01ebaa59e914",
   "metadata": {},
   "source": [
    "## Table of Contents\n",
    "- [Introduction](#toc1)\n",
    "- [Objectives](#toc2)\n",
    "- [About Dataset](#toc11)\n",
    "- [Detailed Overview](toc12)\n",
    "  1. [Data Loading and Preprocessing](#toc3)\n",
    "  2. [Logistic Regression Model](#toc4)\n",
    "  3. [Model Training](#toc5)\n",
    "  4. [Model Optimization and Evaluation](#toc6)\n",
    "  5. [Visualization and Interpretation](#toc7)\n",
    "  6. [Model Saving and Loading](#toc8)\n",
    "  7. [Hyperparameter Tuning](#toc9)\n",
    "  8. [Feature Importance](#toc0)\n",
    "- [Conclusion](#toc31)"
   ]
  },
  {
   "cell_type": "markdown",
   "id": "a067af3d-407d-4835-8955-a8a8bccd1ea2",
   "metadata": {},
   "source": [
    "## Introduction\n",
    "League of Legends, a popular multiplayer online battle arena (MOBA) game, generates extensive data from matches, providing an excellent opportunity to apply machine learning techniques to real-world scenarios. Perform the following steps to build a logistic regression model aimed at predicting the outcomes of League of Legends matches. "
   ]
  },
  {
   "cell_type": "markdown",
   "id": "bacde83b-ed53-40cb-89ac-94b83378c50d",
   "metadata": {},
   "source": [
    "## Objectives\n",
    "- Load and preprocess the dataset: Understand and prepare the data for model training.\n",
    "- Implement and train a logistic regression model: Develop a model to predict match outcomes.\n",
    "- Evaluate model performance using appropriate metrics: Use various metrics to assess model accuracy and reliability.\n",
    "- Optimize the model using gradient descent and other techniques: Enhance model performance through optimization.\n",
    "- Interpret and visualize the results: Gain insights from the model's predictions through visualization.\n",
    "- Save and load the trained model: Learn techniques to persist and reload models.\n",
    "- Perform hyperparameter tuning: Fine-tune the model for optimal performance."
   ]
  },
  {
   "cell_type": "markdown",
   "id": "ef84a673-01a1-4e0a-986e-468d2b34d0ea",
   "metadata": {},
   "source": [
    "## About Dataset\n",
    "The [League of Legends dataset](https://cf-courses-data.s3.us.cloud-object-storage.appdomain.cloud/rk7VDaPjMp1h5VXS-cUyMg/league-of-legends-data-large.csv) contains detailed match statistics from professional and ranked games. It includes information such as champion selections, player performance metrics, game duration, objectives taken, and team compositions."
   ]
  },
  {
   "cell_type": "markdown",
   "id": "5f92bf12-5f41-4888-b436-583838217c0a",
   "metadata": {},
   "source": [
    "## Detailed Overview\n",
    "### 1.Data Loading and Preprocessing\n",
    "#### Installing required Libraries"
   ]
  },
  {
   "cell_type": "code",
   "execution_count": 3,
   "id": "1a162097-a579-4d12-9627-809666ddc8d2",
   "metadata": {
    "scrolled": true
   },
   "outputs": [
    {
     "name": "stdout",
     "output_type": "stream",
     "text": [
      "Requirement already satisfied: pandas==2.2.2 in c:\\users\\navya\\onedrive\\python\\anaconda 1\\lib\\site-packages (2.2.2)Note: you may need to restart the kernel to use updated packages.\n"
     ]
    },
    {
     "name": "stderr",
     "output_type": "stream",
     "text": [
      "WARNING: Ignoring invalid distribution ~andas (C:\\Users\\navya\\OneDrive\\Python\\Anaconda 1\\Lib\\site-packages)\n",
      "WARNING: Ignoring invalid distribution ~andas (C:\\Users\\navya\\OneDrive\\Python\\Anaconda 1\\Lib\\site-packages)\n",
      "WARNING: Ignoring invalid distribution ~andas (C:\\Users\\navya\\OneDrive\\Python\\Anaconda 1\\Lib\\site-packages)\n"
     ]
    },
    {
     "name": "stdout",
     "output_type": "stream",
     "text": [
      "\n",
      "Requirement already satisfied: numpy>=1.26.0 in c:\\users\\navya\\onedrive\\python\\anaconda 1\\lib\\site-packages (from pandas==2.2.2) (1.26.4)\n",
      "Requirement already satisfied: python-dateutil>=2.8.2 in c:\\users\\navya\\onedrive\\python\\anaconda 1\\lib\\site-packages (from pandas==2.2.2) (2.9.0.post0)\n",
      "Requirement already satisfied: pytz>=2020.1 in c:\\users\\navya\\onedrive\\python\\anaconda 1\\lib\\site-packages (from pandas==2.2.2) (2024.1)\n",
      "Requirement already satisfied: tzdata>=2022.7 in c:\\users\\navya\\onedrive\\python\\anaconda 1\\lib\\site-packages (from pandas==2.2.2) (2023.3)\n",
      "Requirement already satisfied: six>=1.5 in c:\\users\\navya\\onedrive\\python\\anaconda 1\\lib\\site-packages (from python-dateutil>=2.8.2->pandas==2.2.2) (1.16.0)\n",
      "Requirement already satisfied: numpy==1.26.4 in c:\\users\\navya\\onedrive\\python\\anaconda 1\\lib\\site-packages (1.26.4)\n",
      "Note: you may need to restart the kernel to use updated packages.\n"
     ]
    },
    {
     "name": "stderr",
     "output_type": "stream",
     "text": [
      "WARNING: Ignoring invalid distribution ~andas (C:\\Users\\navya\\OneDrive\\Python\\Anaconda 1\\Lib\\site-packages)\n",
      "WARNING: Ignoring invalid distribution ~andas (C:\\Users\\navya\\OneDrive\\Python\\Anaconda 1\\Lib\\site-packages)\n",
      "WARNING: Ignoring invalid distribution ~andas (C:\\Users\\navya\\OneDrive\\Python\\Anaconda 1\\Lib\\site-packages)\n"
     ]
    },
    {
     "name": "stdout",
     "output_type": "stream",
     "text": [
      "Requirement already satisfied: matplotlib==3.8.0 in c:\\users\\navya\\onedrive\\python\\anaconda 1\\lib\\site-packages (3.8.0)\n",
      "Requirement already satisfied: contourpy>=1.0.1 in c:\\users\\navya\\onedrive\\python\\anaconda 1\\lib\\site-packages (from matplotlib==3.8.0) (1.2.0)\n",
      "Requirement already satisfied: cycler>=0.10 in c:\\users\\navya\\onedrive\\python\\anaconda 1\\lib\\site-packages (from matplotlib==3.8.0) (0.11.0)\n",
      "Requirement already satisfied: fonttools>=4.22.0 in c:\\users\\navya\\onedrive\\python\\anaconda 1\\lib\\site-packages (from matplotlib==3.8.0) (4.51.0)\n",
      "Requirement already satisfied: kiwisolver>=1.0.1 in c:\\users\\navya\\onedrive\\python\\anaconda 1\\lib\\site-packages (from matplotlib==3.8.0) (1.4.4)\n",
      "Requirement already satisfied: numpy<2,>=1.21 in c:\\users\\navya\\onedrive\\python\\anaconda 1\\lib\\site-packages (from matplotlib==3.8.0) (1.26.4)\n",
      "Requirement already satisfied: packaging>=20.0 in c:\\users\\navya\\onedrive\\python\\anaconda 1\\lib\\site-packages (from matplotlib==3.8.0) (24.1)\n",
      "Requirement already satisfied: pillow>=6.2.0 in c:\\users\\navya\\onedrive\\python\\anaconda 1\\lib\\site-packages (from matplotlib==3.8.0) (11.1.0)\n",
      "Requirement already satisfied: pyparsing>=2.3.1 in c:\\users\\navya\\onedrive\\python\\anaconda 1\\lib\\site-packages (from matplotlib==3.8.0) (3.1.2)\n",
      "Requirement already satisfied: python-dateutil>=2.7 in c:\\users\\navya\\onedrive\\python\\anaconda 1\\lib\\site-packages (from matplotlib==3.8.0) (2.9.0.post0)\n",
      "Requirement already satisfied: six>=1.5 in c:\\users\\navya\\onedrive\\python\\anaconda 1\\lib\\site-packages (from python-dateutil>=2.7->matplotlib==3.8.0) (1.16.0)\n",
      "Note: you may need to restart the kernel to use updated packages.\n"
     ]
    },
    {
     "name": "stderr",
     "output_type": "stream",
     "text": [
      "WARNING: Ignoring invalid distribution ~andas (C:\\Users\\navya\\OneDrive\\Python\\Anaconda 1\\Lib\\site-packages)\n",
      "WARNING: Ignoring invalid distribution ~andas (C:\\Users\\navya\\OneDrive\\Python\\Anaconda 1\\Lib\\site-packages)\n",
      "WARNING: Ignoring invalid distribution ~andas (C:\\Users\\navya\\OneDrive\\Python\\Anaconda 1\\Lib\\site-packages)\n"
     ]
    },
    {
     "name": "stdout",
     "output_type": "stream",
     "text": [
      "Requirement already satisfied: scikit-learn==1.5.0 in c:\\users\\navya\\onedrive\\python\\anaconda 1\\lib\\site-packages (1.5.0)\n",
      "Requirement already satisfied: numpy>=1.19.5 in c:\\users\\navya\\onedrive\\python\\anaconda 1\\lib\\site-packages (from scikit-learn==1.5.0) (1.26.4)\n",
      "Requirement already satisfied: scipy>=1.6.0 in c:\\users\\navya\\onedrive\\python\\anaconda 1\\lib\\site-packages (from scikit-learn==1.5.0) (1.13.1)\n",
      "Requirement already satisfied: joblib>=1.2.0 in c:\\users\\navya\\onedrive\\python\\anaconda 1\\lib\\site-packages (from scikit-learn==1.5.0) (1.4.2)\n",
      "Requirement already satisfied: threadpoolctl>=3.1.0 in c:\\users\\navya\\onedrive\\python\\anaconda 1\\lib\\site-packages (from scikit-learn==1.5.0) (3.5.0)\n",
      "Note: you may need to restart the kernel to use updated packages.\n"
     ]
    },
    {
     "name": "stderr",
     "output_type": "stream",
     "text": [
      "WARNING: Ignoring invalid distribution ~andas (C:\\Users\\navya\\OneDrive\\Python\\Anaconda 1\\Lib\\site-packages)\n",
      "WARNING: Ignoring invalid distribution ~andas (C:\\Users\\navya\\OneDrive\\Python\\Anaconda 1\\Lib\\site-packages)\n",
      "WARNING: Ignoring invalid distribution ~andas (C:\\Users\\navya\\OneDrive\\Python\\Anaconda 1\\Lib\\site-packages)\n"
     ]
    },
    {
     "name": "stdout",
     "output_type": "stream",
     "text": [
      "Requirement already satisfied: torch==2.3.1 in c:\\users\\navya\\onedrive\\python\\anaconda 1\\lib\\site-packages (2.3.1)\n",
      "Requirement already satisfied: filelock in c:\\users\\navya\\onedrive\\python\\anaconda 1\\lib\\site-packages (from torch==2.3.1) (3.13.1)\n",
      "Requirement already satisfied: typing-extensions>=4.8.0 in c:\\users\\navya\\onedrive\\python\\anaconda 1\\lib\\site-packages (from torch==2.3.1) (4.11.0)\n",
      "Requirement already satisfied: sympy in c:\\users\\navya\\onedrive\\python\\anaconda 1\\lib\\site-packages (from torch==2.3.1) (1.13.3)\n",
      "Requirement already satisfied: networkx in c:\\users\\navya\\onedrive\\python\\anaconda 1\\lib\\site-packages (from torch==2.3.1) (3.3)\n",
      "Requirement already satisfied: jinja2 in c:\\users\\navya\\onedrive\\python\\anaconda 1\\lib\\site-packages (from torch==2.3.1) (3.1.4)\n",
      "Requirement already satisfied: fsspec in c:\\users\\navya\\onedrive\\python\\anaconda 1\\lib\\site-packages (from torch==2.3.1) (2024.6.1)\n",
      "Requirement already satisfied: mkl<=2021.4.0,>=2021.1.1 in c:\\users\\navya\\onedrive\\python\\anaconda 1\\lib\\site-packages (from torch==2.3.1) (2021.4.0)\n",
      "Requirement already satisfied: intel-openmp==2021.* in c:\\users\\navya\\onedrive\\python\\anaconda 1\\lib\\site-packages (from mkl<=2021.4.0,>=2021.1.1->torch==2.3.1) (2021.4.0)\n",
      "Requirement already satisfied: tbb==2021.* in c:\\users\\navya\\onedrive\\python\\anaconda 1\\lib\\site-packages (from mkl<=2021.4.0,>=2021.1.1->torch==2.3.1) (2021.13.1)\n",
      "Requirement already satisfied: MarkupSafe>=2.0 in c:\\users\\navya\\onedrive\\python\\anaconda 1\\lib\\site-packages (from jinja2->torch==2.3.1) (2.1.3)\n",
      "Requirement already satisfied: mpmath<1.4,>=1.1.0 in c:\\users\\navya\\onedrive\\python\\anaconda 1\\lib\\site-packages (from sympy->torch==2.3.1) (1.3.0)\n",
      "Note: you may need to restart the kernel to use updated packages.\n"
     ]
    },
    {
     "name": "stderr",
     "output_type": "stream",
     "text": [
      "WARNING: Ignoring invalid distribution ~andas (C:\\Users\\navya\\OneDrive\\Python\\Anaconda 1\\Lib\\site-packages)\n",
      "WARNING: Ignoring invalid distribution ~andas (C:\\Users\\navya\\OneDrive\\Python\\Anaconda 1\\Lib\\site-packages)\n",
      "WARNING: Ignoring invalid distribution ~andas (C:\\Users\\navya\\OneDrive\\Python\\Anaconda 1\\Lib\\site-packages)\n"
     ]
    }
   ],
   "source": [
    "%pip install pandas==2.2.2\n",
    "%pip install numpy==1.26.4\n",
    "%pip install matplotlib==3.8.0\n",
    "%pip install scikit-learn==1.5.0\n",
    "%pip install torch==2.3.1"
   ]
  },
  {
   "cell_type": "code",
   "execution_count": 4,
   "id": "5e6c58a0-93e3-4744-9ae0-fc972c144110",
   "metadata": {},
   "outputs": [
    {
     "name": "stdout",
     "output_type": "stream",
     "text": [
      "   win  kills  deaths  assists  gold_earned   cs  wards_placed  wards_killed  \\\n",
      "0    0     16       6       19        17088  231            11             7   \n",
      "1    1      8       8        5        14865  259            10             2   \n",
      "2    0      0      17       11        15919  169            14             5   \n",
      "3    0     19      11        1        11534  264            14             3   \n",
      "4    0     12       7        6        18926  124            15             7   \n",
      "\n",
      "   damage_dealt  \n",
      "0         15367  \n",
      "1         38332  \n",
      "2         24642  \n",
      "3         15789  \n",
      "4         40268  \n"
     ]
    }
   ],
   "source": [
    "import os\n",
    "import pandas as pd\n",
    "\n",
    "# Load dataset\n",
    "data = pd.read_csv(\"league_of_legends_data_large.csv\")\n",
    "\n",
    "# Display first few rows\n",
    "print(data.head())\n"
   ]
  },
  {
   "cell_type": "markdown",
   "id": "442d3e8d-f9c0-49a4-b1fe-62dd7bf0c70d",
   "metadata": {},
   "source": [
    "#### Split Data into Features and Target"
   ]
  },
  {
   "cell_type": "code",
   "execution_count": 5,
   "id": "df24243b-85a9-4db4-95a2-54ca550c3ad0",
   "metadata": {},
   "outputs": [],
   "source": [
    "X = data.drop('win', axis=1)  # Features\n",
    "y = data['win']  # Target variable"
   ]
  },
  {
   "cell_type": "markdown",
   "id": "e37b0d64-1de1-42a9-a234-0e9a59b3aaa9",
   "metadata": {},
   "source": [
    "#### Split Data into Training and Testing Sets"
   ]
  },
  {
   "cell_type": "code",
   "execution_count": 6,
   "id": "fe8d27bf-1fed-475b-8b88-056bbf8fdd47",
   "metadata": {},
   "outputs": [],
   "source": [
    "from sklearn.model_selection import train_test_split\n",
    "\n",
    "X_train, X_test, y_train, y_test = train_test_split(X, y, test_size=0.2, random_state=42)\n"
   ]
  },
  {
   "cell_type": "markdown",
   "id": "69da5456-53b6-400c-931b-887103018959",
   "metadata": {},
   "source": [
    "#### Standardize the Features"
   ]
  },
  {
   "cell_type": "code",
   "execution_count": 7,
   "id": "ef1dce5a-1557-4c9b-a226-ed1ec096df72",
   "metadata": {},
   "outputs": [],
   "source": [
    "from sklearn.preprocessing import StandardScaler\n",
    "\n",
    "scaler = StandardScaler()\n",
    "X_train_scaled = scaler.fit_transform(X_train)\n",
    "X_test_scaled = scaler.transform(X_test)"
   ]
  },
  {
   "cell_type": "markdown",
   "id": "7daadcd5-4231-4daf-8d58-28cb14352e7d",
   "metadata": {},
   "source": [
    "#### Convert to PyTorch Tensors"
   ]
  },
  {
   "cell_type": "code",
   "execution_count": 18,
   "id": "a9afee24-8884-4bc4-860f-ce6b2fd9bf6d",
   "metadata": {},
   "outputs": [],
   "source": [
    "import torch\n",
    "\n",
    "X_train_tensor = torch.tensor(X_train_scaled, dtype=torch.float32)\n",
    "X_test_tensor = torch.tensor(X_test_scaled, dtype=torch.float32)\n",
    "y_train_tensor = torch.tensor(y_train.values, dtype=torch.float32).view(-1, 1)\n",
    "y_test_tensor = torch.tensor(y_test.values, dtype=torch.float32).view(-1, 1)\n"
   ]
  },
  {
   "cell_type": "markdown",
   "id": "005262db-5fb7-4088-b551-379616d2e5d2",
   "metadata": {},
   "source": [
    "### 2.Logistic Regression Model\n",
    "#### Define the Logistic Regression Model"
   ]
  },
  {
   "cell_type": "code",
   "execution_count": 19,
   "id": "6ff922dc-504d-4a57-8e9e-1190723233da",
   "metadata": {},
   "outputs": [],
   "source": [
    "import torch.nn as nn\n",
    "import torch.optim as optim\n",
    "\n",
    "class LogisticRegressionModel(nn.Module):\n",
    "    def __init__(self, input_dim):\n",
    "        super(LogisticRegressionModel, self).__init__()\n",
    "        self.linear = nn.Linear(input_dim, 1)  # Linear layer\n",
    "        self.sigmoid = nn.Sigmoid()  # Sigmoid activation function\n",
    "\n",
    "    def forward(self, x):\n",
    "        return self.sigmoid(self.linear(x))  # Apply sigmoid to linear output"
   ]
  },
  {
   "cell_type": "markdown",
   "id": "c875ca9d-0688-4b4c-a729-327b3586c9b5",
   "metadata": {},
   "source": [
    "#### Initialize the Model, Loss Function, and Optimizer"
   ]
  },
  {
   "cell_type": "code",
   "execution_count": 16,
   "id": "a341716f-6e8f-49a7-9387-2e3a8196ec7c",
   "metadata": {},
   "outputs": [],
   "source": [
    "# Get the number of features from training data\n",
    "# Initialize model, loss function, and optimizer\n",
    "\n",
    "input_dim = X_train_tensor.shape[1]\n",
    "model = LogisticRegressionModel(input_dim)\n",
    "criterion = nn.BCELoss()\n",
    "optimizer = optim.SGD(model.parameters(), lr=0.01)"
   ]
  },
  {
   "cell_type": "markdown",
   "id": "753e373b-8011-4b88-9145-86b93b138e65",
   "metadata": {},
   "source": [
    "### 3.Model Training\n"
   ]
  },
  {
   "cell_type": "code",
   "execution_count": 20,
   "id": "d8848dc9-2d84-434a-b32f-bb37dd813b94",
   "metadata": {},
   "outputs": [
    {
     "name": "stdout",
     "output_type": "stream",
     "text": [
      "Epoch [100/1000], Loss: 0.7260\n",
      "Epoch [200/1000], Loss: 0.7102\n",
      "Epoch [300/1000], Loss: 0.7004\n",
      "Epoch [400/1000], Loss: 0.6945\n",
      "Epoch [500/1000], Loss: 0.6909\n",
      "Epoch [600/1000], Loss: 0.6887\n",
      "Epoch [700/1000], Loss: 0.6874\n",
      "Epoch [800/1000], Loss: 0.6865\n",
      "Epoch [900/1000], Loss: 0.6861\n",
      "Epoch [1000/1000], Loss: 0.6857\n",
      "Training Accuracy: 0.4999\n",
      "Test Accuracy: 0.5020\n"
     ]
    }
   ],
   "source": [
    "# Set the number of epochs\n",
    "num_epochs = 1000\n",
    "\n",
    "# Training loop\n",
    "for epoch in range(num_epochs):\n",
    "    model.train()  # Set model to training mode\n",
    "    optimizer.zero_grad()  # Zero the gradients\n",
    "\n",
    "    outputs = model(X_train_tensor)  # Forward pass\n",
    "    loss = criterion(outputs, y_train_tensor)  # Compute loss\n",
    "    loss.backward()  # Backpropagation\n",
    "    optimizer.step()  # Update weights\n",
    "\n",
    "    # Print loss every 100 epochs\n",
    "    if (epoch + 1) % 100 == 0:\n",
    "        print(f'Epoch [{epoch+1}/{num_epochs}], Loss: {loss.item():.4f}')\n",
    "\n",
    "# Model evaluation\n",
    "model.eval()  # Set model to evaluation mode\n",
    "with torch.no_grad():\n",
    "    train_preds = model(X_train_tensor) >= 0.5\n",
    "    test_preds = model(X_test_tensor) >= 0.5\n",
    "\n",
    "    train_accuracy = (train_preds.squeeze() == y_train_tensor).float().mean().item()\n",
    "    test_accuracy = (test_preds.squeeze() == y_test_tensor).float().mean().item()\n",
    "\n",
    "print(f'Training Accuracy: {train_accuracy:.4f}')\n",
    "print(f'Test Accuracy: {test_accuracy:.4f}')\n"
   ]
  },
  {
   "cell_type": "markdown",
   "id": "7c2e421a-b8d1-4523-984d-e450b518e9ae",
   "metadata": {},
   "source": [
    "### 4.Model Optimization and Evaluation\n",
    "Optimization techniques such as L2 regularization (Ridge Regression) help in preventing overfitting. The model is retrained with these optimizations, and its performance is evaluated on both training and testing sets. \n",
    "The weight_decay parameter in the optimizer adds the L2 regularization term during training"
   ]
  },
  {
   "cell_type": "code",
   "execution_count": 21,
   "id": "c770ce8e-ac78-4d11-807f-1aaa72510b84",
   "metadata": {},
   "outputs": [
    {
     "name": "stdout",
     "output_type": "stream",
     "text": [
      "Epoch [100/1000], Loss: 0.6856\n",
      "Epoch [200/1000], Loss: 0.6855\n",
      "Epoch [300/1000], Loss: 0.6854\n",
      "Epoch [400/1000], Loss: 0.6853\n",
      "Epoch [500/1000], Loss: 0.6853\n",
      "Epoch [600/1000], Loss: 0.6853\n",
      "Epoch [700/1000], Loss: 0.6853\n",
      "Epoch [800/1000], Loss: 0.6853\n",
      "Epoch [900/1000], Loss: 0.6853\n",
      "Epoch [1000/1000], Loss: 0.6853\n",
      "Training Accuracy: 0.5003\n",
      "Test Accuracy: 0.5042\n"
     ]
    }
   ],
   "source": [
    "# Modify the optimizer to include L2 regularization\n",
    "optimizer = torch.optim.SGD(model.parameters(), lr=0.01, weight_decay=0.01)\n",
    "num_epochs = 1000\n",
    "\n",
    "# Training loop with L2 regularization\n",
    "for epoch in range(num_epochs):\n",
    "    model.train()  # Set model to training mode\n",
    "    optimizer.zero_grad()  # Zero the gradients\n",
    "\n",
    "    outputs = model(X_train_tensor)  # Forward pass\n",
    "    loss = criterion(outputs, y_train_tensor)  # Compute loss\n",
    "    loss.backward()  # Backpropagation\n",
    "    optimizer.step()  # Update weights with weight decay\n",
    "\n",
    "    # Print loss every 100 epochs\n",
    "    if (epoch + 1) % 100 == 0:\n",
    "        print(f'Epoch [{epoch+1}/{num_epochs}], Loss: {loss.item():.4f}')\n",
    "\n",
    "# Model evaluation\n",
    "model.eval()  # Set model to evaluation mode\n",
    "with torch.no_grad():\n",
    "    train_preds = model(X_train_tensor) >= 0.5\n",
    "    test_preds = model(X_test_tensor) >= 0.5\n",
    "\n",
    "    train_accuracy = (train_preds.squeeze() == y_train_tensor).float().mean().item()\n",
    "    test_accuracy = (test_preds.squeeze() == y_test_tensor).float().mean().item()\n",
    "\n",
    "print(f'Training Accuracy: {train_accuracy:.4f}')\n",
    "print(f'Test Accuracy: {test_accuracy:.4f}')\n"
   ]
  },
  {
   "cell_type": "markdown",
   "id": "1a2e12be-8d52-473d-b1ff-51a28bd81777",
   "metadata": {},
   "source": [
    "### 5.Visualization and Interpretation\n",
    "Visualization tools like confusion matrices and ROC curves provide insights into the model's performance. The confusion matrix helps in understanding the classification accuracy, while the ROC curve illustrates the trade-off between sensitivity and specificity."
   ]
  },
  {
   "cell_type": "code",
   "execution_count": 24,
   "id": "50e890dd-8f7e-4923-add9-9029412510b0",
   "metadata": {},
   "outputs": [],
   "source": [
    "import numpy as np\n",
    "import matplotlib.pyplot as plt\n",
    "from sklearn.metrics import confusion_matrix, roc_curve, auc, classification_report\n",
    "import seaborn as sns"
   ]
  },
  {
   "cell_type": "code",
   "execution_count": 25,
   "id": "f5c8ee1c-3a50-4ae9-a3fb-0658f05a0da1",
   "metadata": {},
   "outputs": [],
   "source": [
    "# Model evaluation\n",
    "model.eval()\n",
    "with torch.no_grad():\n",
    "    train_probs = model(X_train_tensor)\n",
    "    test_probs = model(X_test_tensor)\n",
    "\n",
    "# Convert probabilities to binary predictions using a threshold of 0.5\n",
    "train_preds = (train_probs >= 0.5).squeeze().numpy()\n",
    "test_preds = (test_probs >= 0.5).squeeze().numpy()\n",
    "\n",
    "# Convert labels to numpy arrays\n",
    "y_train_np = y_train_tensor.numpy()\n",
    "y_test_np = y_test_tensor.numpy()\n"
   ]
  },
  {
   "cell_type": "code",
   "execution_count": 26,
   "id": "c3667196-286a-4611-b105-4e1875410fff",
   "metadata": {},
   "outputs": [
    {
     "data": {
      "image/png": "[encoded data removed]",
      "text/plain": [
       "<Figure size 500x500 with 2 Axes>"
      ]
     },
     "metadata": {},
     "output_type": "display_data"
    },
    {
     "data": {
      "image/png": "[encoded data removed]",
      "text/plain": [
       "<Figure size 500x500 with 2 Axes>"
      ]
     },
     "metadata": {},
     "output_type": "display_data"
    }
   ],
   "source": [
    "# Compute confusion matrix\n",
    "train_cm = confusion_matrix(y_train_np, train_preds)\n",
    "test_cm = confusion_matrix(y_test_np, test_preds)\n",
    "\n",
    "# Plot confusion matrix\n",
    "def plot_confusion_matrix(cm, title):\n",
    "    plt.figure(figsize=(5, 5))\n",
    "    sns.heatmap(cm, annot=True, fmt=\"d\", cmap=\"Blues\")\n",
    "    plt.xlabel(\"Predicted Labels\")\n",
    "    plt.ylabel(\"Actual Labels\")\n",
    "    plt.title(title)\n",
    "    plt.show()\n",
    "\n",
    "# Plot training and test confusion matrices\n",
    "plot_confusion_matrix(train_cm, \"Training Set Confusion Matrix\")\n",
    "plot_confusion_matrix(test_cm, \"Test Set Confusion Matrix\")\n"
   ]
  },
  {
   "cell_type": "code",
   "execution_count": 27,
   "id": "64b4f740-5116-439a-8189-8e06e99a65d9",
   "metadata": {},
   "outputs": [
    {
     "data": {
      "image/png": "[encoded data removed]",
      "text/plain": [
       "<Figure size 600x600 with 1 Axes>"
      ]
     },
     "metadata": {},
     "output_type": "display_data"
    }
   ],
   "source": [
    "# Compute ROC curve and AUC for test set\n",
    "fpr, tpr, _ = roc_curve(y_test_np, test_probs.numpy())\n",
    "roc_auc = auc(fpr, tpr)\n",
    "\n",
    "# Plot ROC curve\n",
    "plt.figure(figsize=(6, 6))\n",
    "plt.plot(fpr, tpr, color=\"blue\", label=f\"ROC curve (AUC = {roc_auc:.4f})\")\n",
    "plt.plot([0, 1], [0, 1], color=\"gray\", linestyle=\"--\")  # Diagonal line for reference\n",
    "plt.xlabel(\"False Positive Rate\")\n",
    "plt.ylabel(\"True Positive Rate\")\n",
    "plt.title(\"ROC Curve\")\n",
    "plt.legend(loc=\"lower right\")\n",
    "plt.show()\n"
   ]
  },
  {
   "cell_type": "code",
   "execution_count": 28,
   "id": "518a7f68-df13-4b27-bf8c-acae672a7a9f",
   "metadata": {},
   "outputs": [
    {
     "name": "stdout",
     "output_type": "stream",
     "text": [
      "Training Set Classification Report:\n",
      "              precision    recall  f1-score   support\n",
      "\n",
      "         0.0       0.54      0.52      0.53       395\n",
      "         1.0       0.55      0.57      0.56       405\n",
      "\n",
      "    accuracy                           0.55       800\n",
      "   macro avg       0.55      0.55      0.55       800\n",
      "weighted avg       0.55      0.55      0.55       800\n",
      "\n",
      "Test Set Classification Report:\n",
      "              precision    recall  f1-score   support\n",
      "\n",
      "         0.0       0.48      0.42      0.45        95\n",
      "         1.0       0.53      0.59      0.56       105\n",
      "\n",
      "    accuracy                           0.51       200\n",
      "   macro avg       0.51      0.51      0.50       200\n",
      "weighted avg       0.51      0.51      0.51       200\n",
      "\n"
     ]
    }
   ],
   "source": [
    "print(\"Training Set Classification Report:\")\n",
    "print(classification_report(y_train_np, train_preds))\n",
    "\n",
    "print(\"Test Set Classification Report:\")\n",
    "print(classification_report(y_test_np, test_preds))"
   ]
  },
  {
   "cell_type": "markdown",
   "id": "0d21377e-c810-4865-bbf0-e4a2df787de5",
   "metadata": {},
   "source": [
    "### 6.Model Saving and Loading\n",
    "This task demonstrates the techniques to persist a trained model using torch.save and reload it using torch.load. Evaluating the loaded model ensures that it retains its performance, making it practical for deployment in real-world applications. "
   ]
  },
  {
   "cell_type": "code",
   "execution_count": 29,
   "id": "cf8e942c-9c72-4ddd-8297-170fceac784d",
   "metadata": {},
   "outputs": [
    {
     "name": "stdout",
     "output_type": "stream",
     "text": [
      "Model saved successfully!\n"
     ]
    }
   ],
   "source": [
    "# Save the model state dictionary\n",
    "torch.save(model.state_dict(), 'logistic_regression_model.pth')\n",
    "\n",
    "print(\"Model saved successfully!\")"
   ]
  },
  {
   "cell_type": "code",
   "execution_count": 30,
   "id": "ab3417f0-fb1b-4866-b493-32ea8a1a2847",
   "metadata": {},
   "outputs": [
    {
     "name": "stdout",
     "output_type": "stream",
     "text": [
      "Model loaded successfully!\n"
     ]
    }
   ],
   "source": [
    "# Create a new model instance\n",
    "loaded_model = LogisticRegressionModel(input_dim)\n",
    "\n",
    "# Load the saved parameters\n",
    "loaded_model.load_state_dict(torch.load('logistic_regression_model.pth'))\n",
    "\n",
    "# Set the model to evaluation mode\n",
    "loaded_model.eval()\n",
    "\n",
    "print(\"Model loaded successfully!\")"
   ]
  },
  {
   "cell_type": "code",
   "execution_count": 31,
   "id": "0010a439-c80f-48dc-83be-1da262c1305b",
   "metadata": {},
   "outputs": [
    {
     "name": "stdout",
     "output_type": "stream",
     "text": [
      "Test Accuracy of Loaded Model: 0.5042\n"
     ]
    }
   ],
   "source": [
    "with torch.no_grad():\n",
    "    test_probs_loaded = loaded_model(X_test_tensor)\n",
    "    test_preds_loaded = (test_probs_loaded >= 0.5).squeeze().numpy()\n",
    "\n",
    "    test_accuracy_loaded = (test_preds_loaded == y_test_tensor.numpy()).mean()\n",
    "\n",
    "print(f'Test Accuracy of Loaded Model: {test_accuracy_loaded:.4f}')"
   ]
  },
  {
   "cell_type": "markdown",
   "id": "a488b917-6411-4210-ba51-c275484d0385",
   "metadata": {},
   "source": [
    "### 7.Hyperparameter Tuning"
   ]
  },
  {
   "cell_type": "code",
   "execution_count": 32,
   "id": "63e8041a-45d7-4d2d-8fe7-7f6c07f53d9d",
   "metadata": {},
   "outputs": [
    {
     "name": "stdout",
     "output_type": "stream",
     "text": [
      "LR: 0.01, Epoch [50/100], Loss: 0.7344\n",
      "LR: 0.01, Epoch [100/100], Loss: 0.7236\n",
      "LR: 0.01, Test Accuracy: 0.5028\n",
      "LR: 0.05, Epoch [50/100], Loss: 0.6943\n",
      "LR: 0.05, Epoch [100/100], Loss: 0.6877\n",
      "LR: 0.05, Test Accuracy: 0.5090\n",
      "LR: 0.1, Epoch [50/100], Loss: 0.6895\n",
      "LR: 0.1, Epoch [100/100], Loss: 0.6855\n",
      "LR: 0.1, Test Accuracy: 0.5012\n",
      "\n",
      "Hyperparameter Tuning Results:\n",
      "Learning Rate: 0.01, Test Accuracy: 0.5028\n",
      "Learning Rate: 0.05, Test Accuracy: 0.5090\n",
      "Learning Rate: 0.1, Test Accuracy: 0.5012\n",
      "\n",
      "Best Learning Rate: 0.05 with Test Accuracy: 0.5090\n"
     ]
    }
   ],
   "source": [
    "# Define learning rates to test\n",
    "learning_rates = [0.01, 0.05, 0.1]\n",
    "num_epochs = 100\n",
    "best_lr = None\n",
    "best_accuracy = 0.0\n",
    "\n",
    "# Dictionary to store accuracy for each learning rate\n",
    "results = {}\n",
    "\n",
    "# Function to train and evaluate the model\n",
    "def train_and_evaluate(lr):\n",
    "    # Reinitialize the model\n",
    "    model = LogisticRegressionModel(X_train_tensor.shape[1])\n",
    "    \n",
    "    # Initialize optimizer with the given learning rate\n",
    "    optimizer = optim.SGD(model.parameters(), lr=lr, weight_decay=0.01)\n",
    "    \n",
    "    # Training loop\n",
    "    for epoch in range(num_epochs):\n",
    "        model.train()\n",
    "        optimizer.zero_grad()\n",
    "\n",
    "        outputs = model(X_train_tensor)\n",
    "        loss = criterion(outputs, y_train_tensor)\n",
    "        loss.backward()\n",
    "        optimizer.step()\n",
    "\n",
    "        # Print loss every 50 epochs\n",
    "        if (epoch + 1) % 50 == 0:\n",
    "            print(f'LR: {lr}, Epoch [{epoch+1}/{num_epochs}], Loss: {loss.item():.4f}')\n",
    "    \n",
    "    # Evaluate the model\n",
    "    model.eval()\n",
    "    with torch.no_grad():\n",
    "        test_probs = model(X_test_tensor)\n",
    "        test_preds = (test_probs >= 0.5).squeeze().numpy()\n",
    "        test_accuracy = (test_preds == y_test_tensor.numpy()).mean()\n",
    "\n",
    "    print(f'LR: {lr}, Test Accuracy: {test_accuracy:.4f}')\n",
    "    \n",
    "    return test_accuracy\n",
    "\n",
    "# Iterate over different learning rates\n",
    "for lr in learning_rates:\n",
    "    accuracy = train_and_evaluate(lr)\n",
    "    results[lr] = accuracy\n",
    "\n",
    "    # Track best learning rate\n",
    "    if accuracy > best_accuracy:\n",
    "        best_accuracy = accuracy\n",
    "        best_lr = lr\n",
    "\n",
    "# Print results\n",
    "print(\"\\nHyperparameter Tuning Results:\")\n",
    "for lr, acc in results.items():\n",
    "    print(f'Learning Rate: {lr}, Test Accuracy: {acc:.4f}')\n",
    "\n",
    "print(f'\\nBest Learning Rate: {best_lr} with Test Accuracy: {best_accuracy:.4f}')"
   ]
  },
  {
   "cell_type": "markdown",
   "id": "cc9078bd-b007-434b-931b-6810d552b649",
   "metadata": {},
   "source": [
    "### 8.Feature Importance"
   ]
  },
  {
   "cell_type": "code",
   "execution_count": 33,
   "id": "75483c87-dd00-4c6a-9146-b16665f1de53",
   "metadata": {},
   "outputs": [
    {
     "name": "stdout",
     "output_type": "stream",
     "text": [
      "        Feature  Importance\n",
      "3   gold_earned    0.164903\n",
      "0         kills    0.127881\n",
      "5  wards_placed    0.102575\n",
      "6  wards_killed   -0.031705\n",
      "7  damage_dealt   -0.018359\n",
      "2       assists   -0.010473\n",
      "4            cs   -0.007491\n",
      "1        deaths   -0.002716\n"
     ]
    }
   ],
   "source": [
    "import pandas as pd\n",
    "import matplotlib.pyplot as plt\n",
    "\n",
    "# Extract the learned weights from the linear layer\n",
    "weights = model.linear.weight.data.numpy().flatten()\n",
    "features = X_train.columns  # Ensure feature names match your dataset\n",
    "\n",
    "# Create a DataFrame for feature importance\n",
    "feature_importance = pd.DataFrame({'Feature': features, 'Importance': weights})\n",
    "\n",
    "# Sort features by their absolute importance values\n",
    "feature_importance = feature_importance.reindex(feature_importance.Importance.abs().sort_values(ascending=False).index)\n",
    "\n",
    "# Display feature importance\n",
    "print(feature_importance)"
   ]
  },
  {
   "cell_type": "code",
   "execution_count": 34,
   "id": "2262abdb-0f91-4456-bfc0-76d7e0bf4b16",
   "metadata": {},
   "outputs": [
    {
     "data": {
      "image/png": "[encoded data removed]",
      "text/plain": [
       "<Figure size 1000x600 with 1 Axes>"
      ]
     },
     "metadata": {},
     "output_type": "display_data"
    }
   ],
   "source": [
    "# Plot feature importance\n",
    "plt.figure(figsize=(10, 6))\n",
    "plt.barh(feature_importance['Feature'], feature_importance['Importance'], color='skyblue')\n",
    "plt.xlabel('Feature Importance')\n",
    "plt.ylabel('Features')\n",
    "plt.title('Feature Importance in Logistic Regression Model')\n",
    "plt.gca().invert_yaxis()  # Invert y-axis for better visualization\n",
    "plt.show()"
   ]
  },
  {
   "cell_type": "markdown",
   "id": "ae9396eb-78ba-4d13-ac49-0834b74431f2",
   "metadata": {},
   "source": [
    "#### Interpreting the Results\n",
    "- Learning Rate 0.01: Test accuracy = 50.28% (The model's loss is decreasing, but learning might be too slow.)\n",
    "- Learning Rate 0.05: Test accuracy = 50.90% (Best accuracy among the tested rates.)\n",
    "- Learning Rate 0.1: Test accuracy = 50.12% (A slightly lower accuracy than 0.05, possibly due to unstable learning.)"
   ]
  },
  {
   "cell_type": "markdown",
   "id": "79b03aa4-8432-40fe-b1c9-e6c091021a51",
   "metadata": {},
   "source": [
    "## Conclusion\n",
    "This project successfully developed and optimized a logistic regression model using PyTorch to predict match outcomes in League of Legends.\n",
    "\n",
    "Key Achievements\n",
    "- Data Preprocessing: The dataset was cleaned, split into training/testing sets, and standardized for better model training.\n",
    "- Model Implementation & Training: A logistic regression model was built, trained using Binary Cross-Entropy Loss, and optimized with Stochastic Gradient Descent (SGD).\n",
    "- Regularization & Optimization: L2 regularization (weight decay) helped prevent overfitting, improving model generalization.\n",
    "- Hyperparameter Tuning: Learning rate tuning identified 0.05 as the best learning rate, yielding the highest test accuracy (50.90%).\n",
    "- Model Evaluation: Confusion matrices, ROC curves, and classification reports helped assess the model’s strengths and limitations.\n",
    "- Feature Importance Analysis: Extracted model weights highlighted the most impactful features affecting predictions.\n",
    "- Model Persistence: Saved and reloaded the trained model for future use, ensuring it retains performance."
   ]
  },
  {
   "cell_type": "code",
   "execution_count": null,
   "id": "dc413fe0-0eab-48fd-b1bd-4fb77566f7c2",
   "metadata": {},
   "outputs": [],
   "source": []
  }
 ],
 "metadata": {
  "kernelspec": {
   "display_name": "Python 3 (ipykernel)",
   "language": "python",
   "name": "python3"
  },
  "language_info": {
   "codemirror_mode": {
    "name": "ipython",
    "version": 3
   },
   "file_extension": ".py",
   "mimetype": "text/x-python",
   "name": "python",
   "nbconvert_exporter": "python",
   "pygments_lexer": "ipython3",
   "version": "3.12.7"
  }
 },
 "nbformat": 4,
 "nbformat_minor": 5
}
